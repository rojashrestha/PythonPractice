{
 "cells": [
  {
   "cell_type": "code",
   "execution_count": 3,
   "id": "52c47261",
   "metadata": {},
   "outputs": [
    {
     "name": "stdout",
     "output_type": "stream",
     "text": [
      "my name is Roja Shrestha, I want to learn python coding\n"
     ]
    }
   ],
   "source": [
    "print ('my name is Roja Shrestha, I want to learn python coding')"
   ]
  },
  {
   "cell_type": "code",
   "execution_count": null,
   "id": "77ab2710",
   "metadata": {},
   "outputs": [
    {
     "name": "stdout",
     "output_type": "stream",
     "text": [
      "4, is even\n",
      "7 is odd\n"
     ]
    }
   ],
   "source": [
    "def num(a):\n",
    "    if a%2==0:\n",
    "        print(f'{a}, is even')\n",
    "    else:\n",
    "        print(f'{a}, is odd')\n",
    "num(4)\n",
    "num(7)"
   ]
  }
 ],
 "metadata": {
  "kernelspec": {
   "display_name": "Python 3",
   "language": "python",
   "name": "python3"
  },
  "language_info": {
   "codemirror_mode": {
    "name": "ipython",
    "version": 3
   },
   "file_extension": ".py",
   "mimetype": "text/x-python",
   "name": "python",
   "nbconvert_exporter": "python",
   "pygments_lexer": "ipython3",
   "version": "3.11.4"
  }
 },
 "nbformat": 4,
 "nbformat_minor": 5
}
